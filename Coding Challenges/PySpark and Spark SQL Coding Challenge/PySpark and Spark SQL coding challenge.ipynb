{
 "cells": [
  {
   "cell_type": "code",
   "execution_count": 0,
   "metadata": {
    "application/vnd.databricks.v1+cell": {
     "cellMetadata": {
      "byteLimit": 2048000,
      "rowLimit": 10000
     },
     "inputWidgets": {},
     "nuid": "19aa658d-f710-48e9-8169-f6402a5f536f",
     "showTitle": false,
     "tableResultSettingsMap": {},
     "title": ""
    }
   },
   "outputs": [],
   "source": [
    "#Initialize PySpark session\n",
    "from pyspark .sql import SparkSession\n",
    "from pyspark.sql.functions import col, regexp_replace\n",
    "\n",
    "#Initialize Spark session\n",
    "spark = SparkSession.builder.appName(\"SparkSQL_CreditCard\").getOrCreate()\n",
    "\n",
    "# Step 1: Load the datasets\n",
    "\n",
    "credit_card_path = \"dbfs:/FileStore/tables/credit_card__1_-1.csv\"\n",
    "txn_path = \"dbfs:/FileStore/tables/txn__1_-1.csv\"\n",
    "\n",
    "# Load credit card dataset\n",
    "credit_card_df = spark.read.csv(credit_card_path, header=True, inferSchema=True)\n",
    "credit_card_df.createOrReplaceTempView(\"credit_card_data\")\n",
    "\n",
    "# Load txn dataset\n",
    "txn_df = spark.read.csv(txn_path, header=True, inferSchema=True)\n",
    "txn_df.createOrReplaceTempView(\"txn_data\")"
   ]
  },
  {
   "cell_type": "code",
   "execution_count": 0,
   "metadata": {
    "application/vnd.databricks.v1+cell": {
     "cellMetadata": {
      "byteLimit": 2048000,
      "rowLimit": 10000
     },
     "inputWidgets": {},
     "nuid": "d9234bb5-b6cf-421b-9634-34ce5d054a3e",
     "showTitle": false,
     "tableResultSettingsMap": {},
     "title": ""
    }
   },
   "outputs": [
    {
     "output_type": "stream",
     "name": "stdout",
     "output_type": "stream",
     "text": [
      "Credit Card Dataset Schema:\nroot\n |-- RowNumber: integer (nullable = true)\n |-- CustomerId: integer (nullable = true)\n |-- Surname: string (nullable = true)\n |-- CreditScore: integer (nullable = true)\n |-- Geography: string (nullable = true)\n |-- Gender: string (nullable = true)\n |-- Age: integer (nullable = true)\n |-- Tenure: integer (nullable = true)\n |-- Balance: double (nullable = true)\n |-- NumOfProducts: integer (nullable = true)\n |-- IsActiveMember: integer (nullable = true)\n |-- EstimatedSalary: double (nullable = true)\n |-- Exited: integer (nullable = true)\n\n+---------+----------+--------+-----------+---------+------+---+------+---------+-------------+--------------+---------------+------+\n|RowNumber|CustomerId| Surname|CreditScore|Geography|Gender|Age|Tenure|  Balance|NumOfProducts|IsActiveMember|EstimatedSalary|Exited|\n+---------+----------+--------+-----------+---------+------+---+------+---------+-------------+--------------+---------------+------+\n|        1|  15634602|Hargrave|        619|   France|Female| 42|     2|      0.0|            1|             1|      101348.88|     1|\n|        2|  15647311|    Hill|        608|    Spain|Female| 41|     1| 83807.86|            1|             1|      112542.58|     0|\n|        3|  15619304|    Onio|        502|   France|Female| 42|     8| 159660.8|            3|             0|      113931.57|     1|\n|        4|  15701354|    Boni|        699|   France|Female| 39|     1|      0.0|            2|             0|       93826.63|     0|\n|        5|  15737888|Mitchell|        850|    Spain|Female| 43|     2|125510.82|            1|             1|        79084.1|     0|\n+---------+----------+--------+-----------+---------+------+---+------+---------+-------------+--------------+---------------+------+\nonly showing top 5 rows\n\nTransaction Dataset Schema:\nroot\n |-- Account No: string (nullable = true)\n |-- TRANSACTION DETAILS: string (nullable = true)\n |-- VALUE DATE: string (nullable = true)\n |--  WITHDRAWAL AMT : double (nullable = true)\n |--  DEPOSIT AMT : double (nullable = true)\n |-- BALANCE AMT: double (nullable = true)\n\n+-------------+--------------------+----------+----------------+-------------+-----------+\n|   Account No| TRANSACTION DETAILS|VALUE DATE| WITHDRAWAL AMT | DEPOSIT AMT |BALANCE AMT|\n+-------------+--------------------+----------+----------------+-------------+-----------+\n|409000611074'|TRF FROM  Indiafo...| 29-Jun-17|            null|    1000000.0|  1000000.0|\n|409000611074'|TRF FROM  Indiafo...|  5-Jul-17|            null|    1000000.0|  2000000.0|\n|409000611074'|FDRL/INTERNAL FUN...| 18-Jul-17|            null|     500000.0|  2500000.0|\n|409000611074'|TRF FRM  Indiafor...|  1-Aug-17|            null|    3000000.0|  5500000.0|\n|409000611074'|FDRL/INTERNAL FUN...| 16-Aug-17|            null|     500000.0|  6000000.0|\n+-------------+--------------------+----------+----------------+-------------+-----------+\nonly showing top 5 rows\n\n"
     ]
    }
   ],
   "source": [
    "# step 2: Inspect datasets\n",
    "print(\"Credit Card Dataset Schema:\")\n",
    "credit_card_df.printSchema()\n",
    "credit_card_df.show(5)\n",
    "\n",
    "print(\"Transaction Dataset Schema:\")\n",
    "txn_df.printSchema()\n",
    "txn_df.show(5)"
   ]
  },
  {
   "cell_type": "code",
   "execution_count": 0,
   "metadata": {
    "application/vnd.databricks.v1+cell": {
     "cellMetadata": {
      "byteLimit": 2048000,
      "rowLimit": 10000
     },
     "inputWidgets": {},
     "nuid": "c0437a07-ff28-4a14-b2bb-cfefd7062cfc",
     "showTitle": false,
     "tableResultSettingsMap": {},
     "title": ""
    }
   },
   "outputs": [
    {
     "output_type": "stream",
     "name": "stdout",
     "output_type": "stream",
     "text": [
      "+---------+----------+---------+-----------+---------+------+---+------+---------+-------------+--------------+---------------+------+\n|RowNumber|CustomerId|  Surname|CreditScore|Geography|Gender|Age|Tenure|  Balance|NumOfProducts|IsActiveMember|EstimatedSalary|Exited|\n+---------+----------+---------+-----------+---------+------+---+------+---------+-------------+--------------+---------------+------+\n|        5|  15737888| Mitchell|        850|    Spain|Female| 43|     2|125510.82|            1|             1|        79084.1|     0|\n|        7|  15592531| Bartlett|        822|   France|  Male| 50|     7|      0.0|            2|             1|        10062.8|     0|\n|       25|  15625047|      Yen|        846|   France|Female| 38|     5|      0.0|            1|             1|      187616.16|     0|\n|       38|  15729599|  Lorenzo|        804|    Spain|  Male| 33|     7|  76548.6|            1|             1|       98453.45|     0|\n|       39|  15717426|Armstrong|        850|   France|  Male| 36|     7|      0.0|            1|             1|        40812.9|     0|\n|       44|  15755196|   Lavine|        834|   France|Female| 49|     2|131394.56|            1|             0|      194365.76|     1|\n|       47|  15602280|   Martin|        829|  Germany|Female| 27|     9|112045.67|            1|             1|      119708.21|     1|\n|       72|  15620344|    McKee|        813|   France|  Male| 29|     6|      0.0|            1|             0|       33953.87|     0|\n|       92|  15731511|  Ritchie|        808|   France|  Male| 45|     7|118626.55|            2|             0|      147132.46|     0|\n|       98|  15693683|   Yuille|        814|  Germany|  Male| 29|     8|  97086.4|            2|             1|      197276.13|     0|\n|      121|  15682472| Culbreth|        828|   France|  Male| 34|     8|129433.34|            2|             0|       38131.77|     0|\n|      129|  15575492|  Kennedy|        828|   France|Female| 41|     7|      0.0|            2|             0|      171378.77|     0|\n|      181|  15716334|   Rozier|        850|    Spain|Female| 45|     2|122311.21|            1|             1|        19482.5|     0|\n|      185|  15719377|    Cocci|        804|   France|Female| 50|     4|      0.0|            1|             1|        8546.87|     1|\n|      196|  15594815| Aleshire|        807|   France|  Male| 35|     3|174790.15|            1|             1|         600.36|     0|\n|      201|  15604482|Chiemezie|        850|    Spain|  Male| 30|     2|141040.01|            1|             1|         5978.2|     0|\n|      219|  15659366|     Shih|        807|   France|  Male| 43|     1|105799.32|            2|             0|       34888.04|     1|\n|      224|  15733247|Stevenson|        850|   France|  Male| 33|    10|      0.0|            1|             0|        4861.72|     1|\n|      260|  15607178|    Welch|        850|  Germany|  Male| 38|     3| 54901.01|            1|             1|      140075.55|     0|\n|      273|  15796505|    Boyle|        811|  Germany|Female| 34|     1|149297.19|            2|             1|      186339.74|     0|\n+---------+----------+---------+-----------+---------+------+---+------+---------+-------------+--------------+---------------+------+\nonly showing top 20 rows\n\n+---------+----------+---------+-----------+---------+------+---+------+---------+-------------+--------------+---------------+------+\n|RowNumber|CustomerId|  Surname|CreditScore|Geography|Gender|Age|Tenure|  Balance|NumOfProducts|IsActiveMember|EstimatedSalary|Exited|\n+---------+----------+---------+-----------+---------+------+---+------+---------+-------------+--------------+---------------+------+\n|        5|  15737888| Mitchell|        850|    Spain|Female| 43|     2|125510.82|            1|             1|        79084.1|     0|\n|        7|  15592531| Bartlett|        822|   France|  Male| 50|     7|      0.0|            2|             1|        10062.8|     0|\n|       25|  15625047|      Yen|        846|   France|Female| 38|     5|      0.0|            1|             1|      187616.16|     0|\n|       38|  15729599|  Lorenzo|        804|    Spain|  Male| 33|     7|  76548.6|            1|             1|       98453.45|     0|\n|       39|  15717426|Armstrong|        850|   France|  Male| 36|     7|      0.0|            1|             1|        40812.9|     0|\n|       44|  15755196|   Lavine|        834|   France|Female| 49|     2|131394.56|            1|             0|      194365.76|     1|\n|       47|  15602280|   Martin|        829|  Germany|Female| 27|     9|112045.67|            1|             1|      119708.21|     1|\n|       72|  15620344|    McKee|        813|   France|  Male| 29|     6|      0.0|            1|             0|       33953.87|     0|\n|       92|  15731511|  Ritchie|        808|   France|  Male| 45|     7|118626.55|            2|             0|      147132.46|     0|\n|       98|  15693683|   Yuille|        814|  Germany|  Male| 29|     8|  97086.4|            2|             1|      197276.13|     0|\n|      121|  15682472| Culbreth|        828|   France|  Male| 34|     8|129433.34|            2|             0|       38131.77|     0|\n|      129|  15575492|  Kennedy|        828|   France|Female| 41|     7|      0.0|            2|             0|      171378.77|     0|\n|      181|  15716334|   Rozier|        850|    Spain|Female| 45|     2|122311.21|            1|             1|        19482.5|     0|\n|      185|  15719377|    Cocci|        804|   France|Female| 50|     4|      0.0|            1|             1|        8546.87|     1|\n|      196|  15594815| Aleshire|        807|   France|  Male| 35|     3|174790.15|            1|             1|         600.36|     0|\n|      201|  15604482|Chiemezie|        850|    Spain|  Male| 30|     2|141040.01|            1|             1|         5978.2|     0|\n|      219|  15659366|     Shih|        807|   France|  Male| 43|     1|105799.32|            2|             0|       34888.04|     1|\n|      224|  15733247|Stevenson|        850|   France|  Male| 33|    10|      0.0|            1|             0|        4861.72|     1|\n|      260|  15607178|    Welch|        850|  Germany|  Male| 38|     3| 54901.01|            1|             1|      140075.55|     0|\n|      273|  15796505|    Boyle|        811|  Germany|Female| 34|     1|149297.19|            2|             1|      186339.74|     0|\n+---------+----------+---------+-----------+---------+------+---+------+---------+-------------+--------------+---------------+------+\nonly showing top 20 rows\n\n"
     ]
    }
   ],
   "source": [
    "# Step 3: Filter Transformation\n",
    "\n",
    "# PySpark\n",
    "filtered_pyspark = credit_card_df.filter(credit_card_df['CreditScore'] > 800)\n",
    "filtered_pyspark.show()\n",
    "\n",
    "# Spark SQL\n",
    "filtered_sql = spark.sql(\"SELECT * FROM credit_card_data WHERE CreditScore > 800\")\n",
    "filtered_sql.show()"
   ]
  },
  {
   "cell_type": "code",
   "execution_count": 0,
   "metadata": {
    "application/vnd.databricks.v1+cell": {
     "cellMetadata": {
      "byteLimit": 2048000,
      "rowLimit": 10000
     },
     "inputWidgets": {},
     "nuid": "0d954f10-c3a5-4f76-9e55-aa367d25c719",
     "showTitle": false,
     "tableResultSettingsMap": {},
     "title": ""
    }
   },
   "outputs": [
    {
     "output_type": "stream",
     "name": "stdout",
     "output_type": "stream",
     "text": [
      "+----------------+\n|sum(CreditScore)|\n+----------------+\n|         6505288|\n+----------------+\n\n+-----------+\n|TotalAmount|\n+-----------+\n|    6505288|\n+-----------+\n\n"
     ]
    }
   ],
   "source": [
    "# Step 4: Aggregations\n",
    "\n",
    "# PySpark\n",
    "aggregated_pyspark = credit_card_df.groupBy().sum(\"CreditScore\").withColumnRenamed(\"sum(Amount)\", \"TotalAmount\")\n",
    "aggregated_pyspark.show()\n",
    "\n",
    "# Spark SQL\n",
    "aggregated_sql = spark.sql(\"SELECT SUM(CreditScore) AS TotalAmount FROM credit_card_data\")\n",
    "aggregated_sql.show()"
   ]
  },
  {
   "cell_type": "code",
   "execution_count": 0,
   "metadata": {
    "application/vnd.databricks.v1+cell": {
     "cellMetadata": {
      "byteLimit": 2048000,
      "rowLimit": 10000
     },
     "inputWidgets": {},
     "nuid": "cb2f6f66-97e6-495b-8248-7ef909472ef8",
     "showTitle": false,
     "tableResultSettingsMap": {},
     "title": ""
    }
   },
   "outputs": [
    {
     "output_type": "stream",
     "name": "stdout",
     "output_type": "stream",
     "text": [
      "+-----------+------------------+\n|CreditScore|      sum(Balance)|\n+-----------+------------------+\n|        833| 659969.3400000001|\n|        496|         893885.63|\n|        463|428631.69999999995|\n|        471|         474321.42|\n|        623|2112271.9600000004|\n|        737|1826049.2800000003|\n|        540|1889611.9800000002|\n|        516|2236659.6300000004|\n|        808|         832733.99|\n|        580|        3220036.84|\n|        451|         202414.29|\n|        458|         676461.95|\n|        804|447478.44999999995|\n|        799|        1254067.02|\n|        588|        2382125.17|\n|        481| 602554.3300000001|\n|        472|         320550.94|\n|        513|        1071263.86|\n|        673|2516799.1600000006|\n|        613|        4266145.49|\n+-----------+------------------+\nonly showing top 20 rows\n\n+---------+-----------+\n|  Balance|TotalAmount|\n+---------+-----------+\n| 128173.9|        639|\n| 88109.81|        626|\n|  86605.5|        650|\n| 97257.41|        750|\n| 54817.55|        812|\n| 135643.0|        755|\n|153572.31|        618|\n|117561.49|        817|\n|113308.84|        517|\n|131082.17|        445|\n| 93791.38|        538|\n|102562.23|        583|\n|124577.33|        604|\n|142263.45|        753|\n|164948.98|        670|\n| 109044.3|        516|\n|121263.62|        698|\n| 61636.97|        468|\n|101985.81|        850|\n|110791.97|        532|\n+---------+-----------+\nonly showing top 20 rows\n\n"
     ]
    }
   ],
   "source": [
    "# Step 5 : GroupBy\n",
    "\n",
    "# PySpark\n",
    "grouped_pyspark = credit_card_df.groupBy(\"CreditScore\").sum(\"Balance\").withColumnRenamed(\"sum(Amount)\", \"TotalAmount\")\n",
    "grouped_pyspark.show()\n",
    "\n",
    "# Spark SQL\n",
    "grouped_sql = spark.sql(\"\"\"\n",
    "    SELECT Balance, SUM(CreditScore) AS TotalAmount\n",
    "    FROM credit_card_data\n",
    "    GROUP BY Balance\n",
    "\"\"\")\n",
    "grouped_sql.show()"
   ]
  },
  {
   "cell_type": "code",
   "execution_count": 0,
   "metadata": {
    "application/vnd.databricks.v1+cell": {
     "cellMetadata": {
      "byteLimit": 2048000,
      "rowLimit": 10000
     },
     "inputWidgets": {},
     "nuid": "45341e97-b13a-4030-ae2d-2c5f713fdbc8",
     "showTitle": false,
     "tableResultSettingsMap": {},
     "title": ""
    }
   },
   "outputs": [
    {
     "output_type": "stream",
     "name": "stdout",
     "output_type": "stream",
     "text": [
      "+---------+----------+-------+-----------+---------+------+---+------+-------+-------------+--------------+---------------+------+----------+-------------------+----------+----------------+-------------+-----------+\n|RowNumber|CustomerId|Surname|CreditScore|Geography|Gender|Age|Tenure|Balance|NumOfProducts|IsActiveMember|EstimatedSalary|Exited|Account No|TRANSACTION DETAILS|VALUE DATE| WITHDRAWAL AMT | DEPOSIT AMT |BALANCE AMT|\n+---------+----------+-------+-----------+---------+------+---+------+-------+-------------+--------------+---------------+------+----------+-------------------+----------+----------------+-------------+-----------+\n+---------+----------+-------+-----------+---------+------+---+------+-------+-------------+--------------+---------------+------+----------+-------------------+----------+----------------+-------------+-----------+\n\n+-----------+-------------------+\n|CreditScore|TRANSACTION DETAILS|\n+-----------+-------------------+\n+-----------+-------------------+\n\n"
     ]
    }
   ],
   "source": [
    "# Step 6: Joins\n",
    "\n",
    "# PySpark Inner Join\n",
    "inner_join_pyspark = credit_card_df.join(txn_df, credit_card_df[\"CreditScore\"] == txn_df[\"TRANSACTION DETAILS\"], \"inner\")\n",
    "inner_join_pyspark.show(5)\n",
    "\n",
    "# Spark SQL Inner Join\n",
    "credit_card_df.createOrReplaceTempView(\"credit_card_data\")\n",
    "txn_df.createOrReplaceTempView(\"txn_data\")\n",
    "\n",
    "# Perform the join using Spark SQL\n",
    "inner_join_sql = spark.sql(\"\"\"\n",
    "SELECT ccd.CreditScore, txn.`TRANSACTION DETAILS`\n",
    "FROM credit_card_data ccd\n",
    "INNER JOIN txn_data txn\n",
    "ON ccd.CreditScore = txn.`TRANSACTION DETAILS`\n",
    "\n",
    "\"\"\")\n",
    "inner_join_sql.show(5)"
   ]
  },
  {
   "cell_type": "code",
   "execution_count": 0,
   "metadata": {
    "application/vnd.databricks.v1+cell": {
     "cellMetadata": {
      "byteLimit": 2048000,
      "rowLimit": 10000
     },
     "inputWidgets": {},
     "nuid": "5eae3357-b0a4-4fc5-ad5e-c67e18adb746",
     "showTitle": false,
     "tableResultSettingsMap": {},
     "title": ""
    }
   },
   "outputs": [
    {
     "output_type": "stream",
     "name": "stdout",
     "output_type": "stream",
     "text": [
      "+---------+----------+--------+-----------+---------+------+---+------+---------+-------------+--------------+---------------+------+----------+-------------------+----------+----------------+-------------+-----------+\n|RowNumber|CustomerId| Surname|CreditScore|Geography|Gender|Age|Tenure|  Balance|NumOfProducts|IsActiveMember|EstimatedSalary|Exited|Account No|TRANSACTION DETAILS|VALUE DATE| WITHDRAWAL AMT | DEPOSIT AMT |BALANCE AMT|\n+---------+----------+--------+-----------+---------+------+---+------+---------+-------------+--------------+---------------+------+----------+-------------------+----------+----------------+-------------+-----------+\n|        1|  15634602|Hargrave|        619|   France|Female| 42|     2|      0.0|            1|             1|      101348.88|     1|      null|               null|      null|            null|         null|       null|\n|        2|  15647311|    Hill|        608|    Spain|Female| 41|     1| 83807.86|            1|             1|      112542.58|     0|      null|               null|      null|            null|         null|       null|\n|        3|  15619304|    Onio|        502|   France|Female| 42|     8| 159660.8|            3|             0|      113931.57|     1|      null|               null|      null|            null|         null|       null|\n|        4|  15701354|    Boni|        699|   France|Female| 39|     1|      0.0|            2|             0|       93826.63|     0|      null|               null|      null|            null|         null|       null|\n|        5|  15737888|Mitchell|        850|    Spain|Female| 43|     2|125510.82|            1|             1|        79084.1|     0|      null|               null|      null|            null|         null|       null|\n+---------+----------+--------+-----------+---------+------+---+------+---------+-------------+--------------+---------------+------+----------+-------------------+----------+----------------+-------------+-----------+\nonly showing top 5 rows\n\n+-----------+-------------------+\n|CreditScore|TRANSACTION DETAILS|\n+-----------+-------------------+\n|        619|               null|\n|        608|               null|\n|        502|               null|\n|        699|               null|\n|        850|               null|\n+-----------+-------------------+\nonly showing top 5 rows\n\n"
     ]
    }
   ],
   "source": [
    "# Step 7 : Left join\n",
    "\n",
    "# Left join in PySpark\n",
    "left_join_pyspark = credit_card_df.join(txn_df, credit_card_df[\"CreditScore\"] == txn_df[\"TRANSACTION DETAILS\"], \"left\")\n",
    "left_join_pyspark.show(5)\n",
    "\n",
    "# Left join in Spark SQL\n",
    "left_join_sql = spark.sql(\"\"\"\n",
    "SELECT ccd.CreditScore, txn.`TRANSACTION DETAILS`\n",
    "FROM credit_card_data ccd\n",
    "LEFT JOIN txn_data txn\n",
    "ON ccd.CreditScore = txn.`TRANSACTION DETAILS`\n",
    "\"\"\")\n",
    "left_join_sql.show(5)\n"
   ]
  },
  {
   "cell_type": "code",
   "execution_count": 0,
   "metadata": {
    "application/vnd.databricks.v1+cell": {
     "cellMetadata": {
      "byteLimit": 2048000,
      "rowLimit": 10000
     },
     "inputWidgets": {},
     "nuid": "3367bba3-010a-4eac-bf5d-29697203a940",
     "showTitle": false,
     "tableResultSettingsMap": {},
     "title": ""
    }
   },
   "outputs": [
    {
     "output_type": "stream",
     "name": "stdout",
     "output_type": "stream",
     "text": [
      "+---------+----------+-------+-----------+---------+------+----+------+-------+-------------+--------------+---------------+------+-------------+--------------------+----------+----------------+-------------+-----------+\n|RowNumber|CustomerId|Surname|CreditScore|Geography|Gender| Age|Tenure|Balance|NumOfProducts|IsActiveMember|EstimatedSalary|Exited|   Account No| TRANSACTION DETAILS|VALUE DATE| WITHDRAWAL AMT | DEPOSIT AMT |BALANCE AMT|\n+---------+----------+-------+-----------+---------+------+----+------+-------+-------------+--------------+---------------+------+-------------+--------------------+----------+----------------+-------------+-----------+\n|     null|      null|   null|       null|     null|  null|null|  null|   null|         null|          null|           null|  null|409000611074'|TRF FROM  Indiafo...| 29-Jun-17|            null|    1000000.0|  1000000.0|\n|     null|      null|   null|       null|     null|  null|null|  null|   null|         null|          null|           null|  null|409000611074'|TRF FROM  Indiafo...|  5-Jul-17|            null|    1000000.0|  2000000.0|\n|     null|      null|   null|       null|     null|  null|null|  null|   null|         null|          null|           null|  null|409000611074'|FDRL/INTERNAL FUN...| 18-Jul-17|            null|     500000.0|  2500000.0|\n|     null|      null|   null|       null|     null|  null|null|  null|   null|         null|          null|           null|  null|409000611074'|TRF FRM  Indiafor...|  1-Aug-17|            null|    3000000.0|  5500000.0|\n|     null|      null|   null|       null|     null|  null|null|  null|   null|         null|          null|           null|  null|409000611074'|FDRL/INTERNAL FUN...| 16-Aug-17|            null|     500000.0|  6000000.0|\n+---------+----------+-------+-----------+---------+------+----+------+-------+-------------+--------------+---------------+------+-------------+--------------------+----------+----------------+-------------+-----------+\nonly showing top 5 rows\n\n+-----------+--------------------+\n|CreditScore| TRANSACTION DETAILS|\n+-----------+--------------------+\n|       null|TRF FROM  Indiafo...|\n|       null|TRF FROM  Indiafo...|\n|       null|FDRL/INTERNAL FUN...|\n|       null|TRF FRM  Indiafor...|\n|       null|FDRL/INTERNAL FUN...|\n+-----------+--------------------+\nonly showing top 5 rows\n\n"
     ]
    }
   ],
   "source": [
    "# Step 8 : Right Join\n",
    "\n",
    "# Right join in PySpark\n",
    "right_join_pyspark = credit_card_df.join(txn_df, credit_card_df[\"CreditScore\"] == txn_df[\"TRANSACTION DETAILS\"], \"right\")\n",
    "right_join_pyspark.show(5)\n",
    "\n",
    "# Right join in Spark SQL\n",
    "right_join_sql = spark.sql(\"\"\"\n",
    "SELECT ccd.CreditScore, txn.`TRANSACTION DETAILS`\n",
    "FROM credit_card_data ccd\n",
    "RIGHT JOIN txn_data txn\n",
    "ON ccd.CreditScore = txn.`TRANSACTION DETAILS`\n",
    "\"\"\")\n",
    "right_join_sql.show(5)\n",
    "\n"
   ]
  },
  {
   "cell_type": "code",
   "execution_count": 0,
   "metadata": {
    "application/vnd.databricks.v1+cell": {
     "cellMetadata": {
      "byteLimit": 2048000,
      "rowLimit": 10000
     },
     "inputWidgets": {},
     "nuid": "838b7df2-192a-4f3d-9d78-29471e735fab",
     "showTitle": false,
     "tableResultSettingsMap": {},
     "title": ""
    }
   },
   "outputs": [
    {
     "output_type": "stream",
     "name": "stdout",
     "output_type": "stream",
     "text": [
      "+---------+----------+-------+-----------+---------+------+----+------+-------+-------------+--------------+---------------+------+-------------+--------------------+----------+----------------+-------------+-----------+\n|RowNumber|CustomerId|Surname|CreditScore|Geography|Gender| Age|Tenure|Balance|NumOfProducts|IsActiveMember|EstimatedSalary|Exited|   Account No| TRANSACTION DETAILS|VALUE DATE| WITHDRAWAL AMT | DEPOSIT AMT |BALANCE AMT|\n+---------+----------+-------+-----------+---------+------+----+------+-------+-------------+--------------+---------------+------+-------------+--------------------+----------+----------------+-------------+-----------+\n|     null|      null|   null|       null|     null|  null|null|  null|   null|         null|          null|           null|  null|409000611074'|TRF FROM  Indiafo...| 29-Jun-17|            null|    1000000.0|  1000000.0|\n|     null|      null|   null|       null|     null|  null|null|  null|   null|         null|          null|           null|  null|409000611074'|TRF FROM  Indiafo...|  5-Jul-17|            null|    1000000.0|  2000000.0|\n|     null|      null|   null|       null|     null|  null|null|  null|   null|         null|          null|           null|  null|409000611074'|FDRL/INTERNAL FUN...| 18-Jul-17|            null|     500000.0|  2500000.0|\n|     null|      null|   null|       null|     null|  null|null|  null|   null|         null|          null|           null|  null|409000611074'|TRF FRM  Indiafor...|  1-Aug-17|            null|    3000000.0|  5500000.0|\n|     null|      null|   null|       null|     null|  null|null|  null|   null|         null|          null|           null|  null|409000611074'|FDRL/INTERNAL FUN...| 16-Aug-17|            null|     500000.0|  6000000.0|\n+---------+----------+-------+-----------+---------+------+----+------+-------+-------------+--------------+---------------+------+-------------+--------------------+----------+----------------+-------------+-----------+\nonly showing top 5 rows\n\n+-----------+--------------------+\n|CreditScore| TRANSACTION DETAILS|\n+-----------+--------------------+\n|       null|TRF FROM  Indiafo...|\n|       null|TRF FROM  Indiafo...|\n|       null|FDRL/INTERNAL FUN...|\n|       null|TRF FRM  Indiafor...|\n|       null|FDRL/INTERNAL FUN...|\n+-----------+--------------------+\nonly showing top 5 rows\n\n"
     ]
    }
   ],
   "source": [
    "# Step 9 : Outer Join\n",
    "\n",
    "# Outer join in PySpark\n",
    "outer_join_pyspark = credit_card_df.join(txn_df, credit_card_df[\"CreditScore\"] == txn_df[\"TRANSACTION DETAILS\"], \"outer\")\n",
    "outer_join_pyspark.show(5)\n",
    "\n",
    "# Outer join in Spark SQL\n",
    "outer_join_sql = spark.sql(\"\"\"\n",
    "SELECT ccd.CreditScore, txn.`TRANSACTION DETAILS`\n",
    "FROM credit_card_data ccd\n",
    "FULL OUTER JOIN txn_data txn\n",
    "ON ccd.CreditScore = txn.`TRANSACTION DETAILS`\n",
    "\"\"\")\n",
    "outer_join_sql.show(5)\n"
   ]
  },
  {
   "cell_type": "code",
   "execution_count": 0,
   "metadata": {
    "application/vnd.databricks.v1+cell": {
     "cellMetadata": {
      "byteLimit": 2048000,
      "rowLimit": 10000
     },
     "inputWidgets": {},
     "nuid": "297fa1ee-82c2-4f3c-94f3-e7e5b2edbdb7",
     "showTitle": false,
     "tableResultSettingsMap": {},
     "title": ""
    }
   },
   "outputs": [
    {
     "output_type": "stream",
     "name": "stdout",
     "output_type": "stream",
     "text": [
      "+---------+----------+--------+-----------+---------+------+---+------+---------+-------------+--------------+---------------+------+-------------+--------------------+----------+----------------+-------------+-----------+\n|RowNumber|CustomerId| Surname|CreditScore|Geography|Gender|Age|Tenure|  Balance|NumOfProducts|IsActiveMember|EstimatedSalary|Exited|   Account No| TRANSACTION DETAILS|VALUE DATE| WITHDRAWAL AMT | DEPOSIT AMT |BALANCE AMT|\n+---------+----------+--------+-----------+---------+------+---+------+---------+-------------+--------------+---------------+------+-------------+--------------------+----------+----------------+-------------+-----------+\n|        1|  15634602|Hargrave|        619|   France|Female| 42|     2|      0.0|            1|             1|      101348.88|     1|409000611074'|TRF FROM  Indiafo...| 29-Jun-17|            null|    1000000.0|  1000000.0|\n|        2|  15647311|    Hill|        608|    Spain|Female| 41|     1| 83807.86|            1|             1|      112542.58|     0|409000611074'|TRF FROM  Indiafo...| 29-Jun-17|            null|    1000000.0|  1000000.0|\n|        3|  15619304|    Onio|        502|   France|Female| 42|     8| 159660.8|            3|             0|      113931.57|     1|409000611074'|TRF FROM  Indiafo...| 29-Jun-17|            null|    1000000.0|  1000000.0|\n|        4|  15701354|    Boni|        699|   France|Female| 39|     1|      0.0|            2|             0|       93826.63|     0|409000611074'|TRF FROM  Indiafo...| 29-Jun-17|            null|    1000000.0|  1000000.0|\n|        5|  15737888|Mitchell|        850|    Spain|Female| 43|     2|125510.82|            1|             1|        79084.1|     0|409000611074'|TRF FROM  Indiafo...| 29-Jun-17|            null|    1000000.0|  1000000.0|\n+---------+----------+--------+-----------+---------+------+---+------+---------+-------------+--------------+---------------+------+-------------+--------------------+----------+----------------+-------------+-----------+\nonly showing top 5 rows\n\n+---------+----------+--------+-----------+---------+------+---+------+---------+-------------+--------------+---------------+------+-------------+--------------------+----------+----------------+-------------+-----------+\n|RowNumber|CustomerId| Surname|CreditScore|Geography|Gender|Age|Tenure|  Balance|NumOfProducts|IsActiveMember|EstimatedSalary|Exited|   Account No| TRANSACTION DETAILS|VALUE DATE| WITHDRAWAL AMT | DEPOSIT AMT |BALANCE AMT|\n+---------+----------+--------+-----------+---------+------+---+------+---------+-------------+--------------+---------------+------+-------------+--------------------+----------+----------------+-------------+-----------+\n|        1|  15634602|Hargrave|        619|   France|Female| 42|     2|      0.0|            1|             1|      101348.88|     1|409000611074'|TRF FROM  Indiafo...| 29-Jun-17|            null|    1000000.0|  1000000.0|\n|        2|  15647311|    Hill|        608|    Spain|Female| 41|     1| 83807.86|            1|             1|      112542.58|     0|409000611074'|TRF FROM  Indiafo...| 29-Jun-17|            null|    1000000.0|  1000000.0|\n|        3|  15619304|    Onio|        502|   France|Female| 42|     8| 159660.8|            3|             0|      113931.57|     1|409000611074'|TRF FROM  Indiafo...| 29-Jun-17|            null|    1000000.0|  1000000.0|\n|        4|  15701354|    Boni|        699|   France|Female| 39|     1|      0.0|            2|             0|       93826.63|     0|409000611074'|TRF FROM  Indiafo...| 29-Jun-17|            null|    1000000.0|  1000000.0|\n|        5|  15737888|Mitchell|        850|    Spain|Female| 43|     2|125510.82|            1|             1|        79084.1|     0|409000611074'|TRF FROM  Indiafo...| 29-Jun-17|            null|    1000000.0|  1000000.0|\n+---------+----------+--------+-----------+---------+------+---+------+---------+-------------+--------------+---------------+------+-------------+--------------------+----------+----------------+-------------+-----------+\nonly showing top 5 rows\n\n"
     ]
    }
   ],
   "source": [
    "# Step 10 : Cross Join\n",
    "\n",
    "# Perform a cross join in PySpark\n",
    "cross_join_pyspark = credit_card_df.crossJoin(txn_df)\n",
    "cross_join_pyspark.show(5)\n",
    "\n",
    "# Register the DataFrames as SQL temporary views\n",
    "credit_card_df.createOrReplaceTempView(\"credit_card_data\")\n",
    "txn_df.createOrReplaceTempView(\"txn_data\")\n",
    "\n",
    "# Perform a cross join in Spark SQL\n",
    "cross_join_sql = spark.sql(\"\"\"\n",
    "SELECT *\n",
    "FROM credit_card_data ccd\n",
    "CROSS JOIN txn_data txn\n",
    "\"\"\")\n",
    "cross_join_sql.show(5)\n"
   ]
  }
 ],
 "metadata": {
  "application/vnd.databricks.v1+notebook": {
   "dashboards": [],
   "environmentMetadata": null,
   "language": "python",
   "notebookMetadata": {
    "mostRecentlyExecutedCommandWithImplicitDF": {
     "commandId": 3135208347431859,
     "dataframes": [
      "_sqldf"
     ]
    },
    "pythonIndentUnit": 4
   },
   "notebookName": "PySpark and Spark SQL coding challenge",
   "widgets": {}
  }
 },
 "nbformat": 4,
 "nbformat_minor": 0
}
